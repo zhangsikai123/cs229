{
 "cells": [
  {
   "cell_type": "markdown",
   "metadata": {},
   "source": [
    "# CS229: Problem Set 2\n",
    "## Problem 5: Kernelizing the Perceptron\n",
    "\n",
    "\n",
    "**C. Combier**\n",
    "\n",
    "This iPython Notebook provides solutions to Stanford's CS229 (Machine Learning, Fall 2017) graduate course problem set 5, taught by Andrew Ng.\n",
    "\n",
    "The problem set can be found here: [./ps2.pdf](ps2.pdf)\n",
    "\n",
    "I chose to write the solutions to the coding questions in Python, whereas the Stanford class is taught with Matlab/Octave.\n",
    "\n",
    "## Notation\n",
    "\n",
    "- $x^i$ is the $i^{th}$ feature vector\n",
    "- $y^i$ is the expected outcome for the $i^{th}$ training example\n",
    "- $m$ is the number of training examples\n",
    "- $n$ is the number of features"
   ]
  },
  {
   "cell_type": "markdown",
   "metadata": {
    "colab_type": "text",
    "id": "rsUtreJMonLw"
   },
   "source": [
    "### Question 5.a)\n",
    "\n",
    "Let $K$ be a Mercer kernel with mapping $\\phi: R^n \\to E $:\n",
    "\n",
    "$$\n",
    "\\begin{align*}\n",
    "K(x, y) &\\mapsto \\langle \\phi(x), \\phi(y) \\rangle \\\\\n",
    "\\end{align*}\n",
    "$$\n",
    "\n",
    "$\\theta^i$ can be represented as $K(\\theta^i,x^i )$\n",
    "\n",
    "### Question 5.b)\n",
    "\n",
    "\n",
    "$h_{\\theta^i} (x^{i+1}) = g( {\\theta^i}^T \\phi(x^{i+1}) ) = g( K ({\\theta^i} ,x^{i+1}) ) $\n",
    "\n",
    "### Question 5.c)\n",
    "\n",
    "Simply remap the update rule by using $K$:\n",
    "\n",
    "$$\n",
    "K (\\theta^{i+1} ,x^{i+1}) := K ({\\theta^i} ,x^{i+1})+ \\alpha y^{i+1}.1 \\left \\{ y^{i+1}g \\left( K ({\\theta^i} ,x^{i+1}) \\right) \\right \\}. K(x^{i+1},x^{i+1})\n",
    "$$"
   ]
  }
 ],
 "metadata": {
  "kernelspec": {
   "display_name": "Python 2",
   "language": "python",
   "name": "python2"
  },
  "language_info": {
   "codemirror_mode": {
    "name": "ipython",
    "version": 2
   },
   "file_extension": ".py",
   "mimetype": "text/x-python",
   "name": "python",
   "nbconvert_exporter": "python",
   "pygments_lexer": "ipython2",
   "version": "2.7.15"
  }
 },
 "nbformat": 4,
 "nbformat_minor": 2
}
