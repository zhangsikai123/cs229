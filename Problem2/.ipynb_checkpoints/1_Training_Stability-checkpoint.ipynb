{
 "cells": [
  {
   "cell_type": "markdown",
   "metadata": {},
   "source": [
    "# CS229: Problem Set 2\n",
    "## Problem 1: Logistic Regression - Training Stability \n",
    "\n",
    "\n",
    "**C. Combier**\n",
    "\n",
    "This iPython Notebook provides solutions to Stanford's CS229 (Machine Learning, Fall 2017) graduate course problem set 2, taught by Andrew Ng.\n",
    "\n",
    "The problem set can be found here: [./ps2.pdf](ps2.pdf)\n",
    "\n",
    "I chose to write the solutions to the coding questions in Python, whereas the Stanford class is taught with Matlab/Octave.\n",
    "\n",
    "## Notation\n",
    "\n",
    "- $x^i$ is the $i^{th}$ feature vector\n",
    "- $y^i$ is the expected outcome for the $i^{th}$ training example\n",
    "- $m$ is the number of training examples\n",
    "- $n$ is the number of features\n",
    "\n",
    "Let's load the libraries:"
   ]
  },
  {
   "cell_type": "code",
   "execution_count": 1,
   "metadata": {
    "colab": {
     "autoexec": {
      "startup": false,
      "wait_interval": 0
     }
    },
    "colab_type": "code",
    "id": "0EwytMhUvOTT"
   },
   "outputs": [],
   "source": [
    "%matplotlib inline\n",
    "from __future__ import division\n",
    "import numpy as np\n",
    "import matplotlib.pyplot as plt\n",
    "import seaborn as sns\n",
    "import pandas as pd\n",
    "\n",
    "sns.set_context('notebook')\n",
    "plt.rcParams['figure.figsize']=(20,20)"
   ]
  },
  {
   "cell_type": "markdown",
   "metadata": {
    "colab_type": "text",
    "id": "nHx8J-iKwEgE"
   },
   "source": [
    "I've imported the functions from `lr_debug.py` directly into the notebook:"
   ]
  },
  {
   "cell_type": "code",
   "execution_count": 2,
   "metadata": {
    "colab": {
     "autoexec": {
      "startup": false,
      "wait_interval": 0
     }
    },
    "colab_type": "code",
    "id": "ERXpTIB7vCkm"
   },
   "outputs": [],
   "source": [
    "try:\n",
    "    xrange\n",
    "except NameError:\n",
    "    xrange = range\n",
    "\n",
    "def add_intercept(X_):\n",
    "    m, n = X_.shape\n",
    "    X = np.zeros((m, n + 1))\n",
    "    X[:, 0] = 1\n",
    "    X[:, 1:] = X_\n",
    "    return X\n",
    "\n",
    "def load_data(filename):\n",
    "    D = np.loadtxt(filename)\n",
    "    Y = D[:, 0]\n",
    "    X = D[:, 1:]\n",
    "    return add_intercept(X), Y\n",
    "\n",
    "def calc_grad(X, Y, theta):\n",
    "    m, n = X.shape\n",
    "    grad = np.zeros(theta.shape)\n",
    "\n",
    "    margins = Y * X.dot(theta)\n",
    "    probs = 1. / (1 + np.exp(margins))\n",
    "    grad = -(1./m) * (X.T.dot(probs * Y))\n",
    "\n",
    "    return grad\n",
    "\n",
    "def logistic_regression(X, Y):\n",
    "    m, n = X.shape\n",
    "    theta = np.zeros(n)\n",
    "    learning_rate = 10\n",
    "\n",
    "    i = 0\n",
    "    while True:\n",
    "        i += 1\n",
    "        prev_theta = theta\n",
    "        grad = calc_grad(X, Y, theta)\n",
    "        theta = theta  - learning_rate * (grad)\n",
    "        if i % 10000 == 0:\n",
    "            print('Finished %d iterations' % i)\n",
    "            print(\"DeltaT = {0}\".format(prev_theta - theta))\n",
    "        if np.linalg.norm(prev_theta - theta) < 1e-15:\n",
    "            print('Converged in %d iterations' % i)\n",
    "            break\n",
    "    return\n",
    "\n",
    "def main():\n",
    "    print('==== Training model on data set A ====')\n",
    "    Xa, Ya = load_data('./data/data_a.txt')\n",
    "    logistic_regression(Xa, Ya)\n",
    "\n",
    "    print('\\n==== Training model on data set B ====')\n",
    "    Xb, Yb = load_data('./data/data_b.txt')\n",
    "    logistic_regression(Xb, Yb)\n",
    "\n",
    "    return"
   ]
  },
  {
   "cell_type": "markdown",
   "metadata": {},
   "source": [
    "### Question 1.a)"
   ]
  },
  {
   "cell_type": "markdown",
   "metadata": {
    "colab_type": "text",
    "id": "H5Q4sxSkE0-d"
   },
   "source": [
    "Now we can run the `main()` function from `lr_debug.py`:"
   ]
  },
  {
   "cell_type": "code",
   "execution_count": null,
   "metadata": {
    "colab": {
     "autoexec": {
      "startup": false,
      "wait_interval": 0
     },
     "base_uri": "https://localhost:8080/",
     "height": 8918
    },
    "colab_type": "code",
    "executionInfo": {
     "elapsed": 60382,
     "status": "error",
     "timestamp": 1533803229921,
     "user": {
      "displayName": "",
      "photoUrl": "",
      "userId": ""
     },
     "user_tz": -120
    },
    "id": "l6l9vi3wxZAf",
    "outputId": "75c982cb-e0b6-443f-c31a-d9d533d975a1",
    "scrolled": false
   },
   "outputs": [],
   "source": [
    "main()"
   ]
  },
  {
   "cell_type": "markdown",
   "metadata": {},
   "source": [
    "Here's the trace of this execution:\n",
    "\n",
    "```\n",
    "==== Training model on data set A ====\n",
    "Finished 10000 iterations\n",
    "DeltaT = [ 4.15154545e-07 -4.27822247e-07 -4.08456454e-07]\n",
    "Finished 20000 iterations\n",
    "DeltaT = [ 3.06350501e-11 -3.15729665e-11 -3.01447756e-11]\n",
    "Finished 30000 iterations\n",
    "DeltaT = [ 3.55271368e-15 -3.55271368e-15 -3.55271368e-15]\n",
    "Converged in 30372 iterations\n",
    "\n",
    "==== Training model on data set B ====\n",
    "Finished 10000 iterations\n",
    "DeltaT = [ 0.00193989 -0.00193552 -0.00194607]\n",
    "Finished 20000 iterations\n",
    "DeltaT = [ 0.00125412 -0.00125294 -0.00125704]\n",
    "Finished 30000 iterations\n",
    "DeltaT = [ 0.00096045 -0.00096055 -0.00096198]\n",
    "Finished 40000 iterations\n",
    "DeltaT = [ 0.00079065 -0.00079152 -0.00079144]\n",
    "Finished 50000 iterations\n",
    "DeltaT = [ 0.00067833 -0.0006797  -0.00067868]\n",
    "Finished 60000 iterations\n",
    "DeltaT = [ 0.00059791 -0.00059962 -0.00059798]\n",
    "Finished 70000 iterations\n",
    "DeltaT = [ 0.00053719 -0.00053915 -0.00053709]\n",
    "Finished 80000 iterations\n",
    "DeltaT = [ 0.00048957 -0.00049171 -0.00048935]\n",
    "Finished 90000 iterations\n",
    "DeltaT = [ 0.00045112 -0.00045338 -0.00045082]\n",
    "Finished 100000 iterations\n",
    "DeltaT = [ 0.00041935 -0.0004217  -0.00041899]\n",
    "\n",
    "...\n",
    "```\n",
    "\n",
    "- When training on dataset A, gradient descent converges in 30372 iterations\n",
    "- When training on dataset B, gradient descent fails to converge\n",
    "\n",
    "Let's take a look at the data:"
   ]
  },
  {
   "cell_type": "code",
   "execution_count": 4,
   "metadata": {
    "colab": {
     "autoexec": {
      "startup": false,
      "wait_interval": 0
     },
     "base_uri": "https://localhost:8080/",
     "height": 204
    },
    "colab_type": "code",
    "executionInfo": {
     "elapsed": 503,
     "status": "ok",
     "timestamp": 1533802715352,
     "user": {
      "displayName": "",
      "photoUrl": "",
      "userId": ""
     },
     "user_tz": -120
    },
    "id": "xYeTt68FwD5N",
    "outputId": "de3c4b35-b90b-4c77-b7c6-1ebdcb1a8ed1"
   },
   "outputs": [
    {
     "data": {
      "text/html": [
       "<div>\n",
       "<style scoped>\n",
       "    .dataframe tbody tr th:only-of-type {\n",
       "        vertical-align: middle;\n",
       "    }\n",
       "\n",
       "    .dataframe tbody tr th {\n",
       "        vertical-align: top;\n",
       "    }\n",
       "\n",
       "    .dataframe thead th {\n",
       "        text-align: right;\n",
       "    }\n",
       "</style>\n",
       "<table border=\"1\" class=\"dataframe\">\n",
       "  <thead>\n",
       "    <tr style=\"text-align: right;\">\n",
       "      <th></th>\n",
       "      <th>y</th>\n",
       "      <th>x1</th>\n",
       "      <th>x2</th>\n",
       "    </tr>\n",
       "  </thead>\n",
       "  <tbody>\n",
       "    <tr>\n",
       "      <th>0</th>\n",
       "      <td>-1.0</td>\n",
       "      <td>0.601266</td>\n",
       "      <td>0.165091</td>\n",
       "    </tr>\n",
       "    <tr>\n",
       "      <th>1</th>\n",
       "      <td>1.0</td>\n",
       "      <td>0.871725</td>\n",
       "      <td>0.527361</td>\n",
       "    </tr>\n",
       "    <tr>\n",
       "      <th>2</th>\n",
       "      <td>-1.0</td>\n",
       "      <td>0.372548</td>\n",
       "      <td>0.446609</td>\n",
       "    </tr>\n",
       "    <tr>\n",
       "      <th>3</th>\n",
       "      <td>-1.0</td>\n",
       "      <td>0.013577</td>\n",
       "      <td>0.051358</td>\n",
       "    </tr>\n",
       "    <tr>\n",
       "      <th>4</th>\n",
       "      <td>1.0</td>\n",
       "      <td>0.583032</td>\n",
       "      <td>0.710619</td>\n",
       "    </tr>\n",
       "  </tbody>\n",
       "</table>\n",
       "</div>"
      ],
      "text/plain": [
       "     y        x1        x2\n",
       "0 -1.0  0.601266  0.165091\n",
       "1  1.0  0.871725  0.527361\n",
       "2 -1.0  0.372548  0.446609\n",
       "3 -1.0  0.013577  0.051358\n",
       "4  1.0  0.583032  0.710619"
      ]
     },
     "execution_count": 4,
     "metadata": {},
     "output_type": "execute_result"
    }
   ],
   "source": [
    "columns = ['y','x1','x2']\n",
    "dfA = pd.read_csv('./data/data_a.txt', sep=\"\\s+\", header=None)\n",
    "dfA.columns = columns\n",
    "dfA.y.astype('category')\n",
    "dfA.head()"
   ]
  },
  {
   "cell_type": "code",
   "execution_count": 5,
   "metadata": {
    "colab": {
     "autoexec": {
      "startup": false,
      "wait_interval": 0
     },
     "base_uri": "https://localhost:8080/",
     "height": 204
    },
    "colab_type": "code",
    "executionInfo": {
     "elapsed": 545,
     "status": "ok",
     "timestamp": 1533802716825,
     "user": {
      "displayName": "",
      "photoUrl": "",
      "userId": ""
     },
     "user_tz": -120
    },
    "id": "9ulnMR5Eww5K",
    "outputId": "d826529e-76f8-465d-8934-009284f42623"
   },
   "outputs": [
    {
     "data": {
      "text/html": [
       "<div>\n",
       "<style scoped>\n",
       "    .dataframe tbody tr th:only-of-type {\n",
       "        vertical-align: middle;\n",
       "    }\n",
       "\n",
       "    .dataframe tbody tr th {\n",
       "        vertical-align: top;\n",
       "    }\n",
       "\n",
       "    .dataframe thead th {\n",
       "        text-align: right;\n",
       "    }\n",
       "</style>\n",
       "<table border=\"1\" class=\"dataframe\">\n",
       "  <thead>\n",
       "    <tr style=\"text-align: right;\">\n",
       "      <th></th>\n",
       "      <th>y</th>\n",
       "      <th>x1</th>\n",
       "      <th>x2</th>\n",
       "    </tr>\n",
       "  </thead>\n",
       "  <tbody>\n",
       "    <tr>\n",
       "      <th>0</th>\n",
       "      <td>-1.0</td>\n",
       "      <td>0.595663</td>\n",
       "      <td>0.193072</td>\n",
       "    </tr>\n",
       "    <tr>\n",
       "      <th>1</th>\n",
       "      <td>-1.0</td>\n",
       "      <td>0.436997</td>\n",
       "      <td>0.544807</td>\n",
       "    </tr>\n",
       "    <tr>\n",
       "      <th>2</th>\n",
       "      <td>1.0</td>\n",
       "      <td>0.899945</td>\n",
       "      <td>0.845922</td>\n",
       "    </tr>\n",
       "    <tr>\n",
       "      <th>3</th>\n",
       "      <td>-1.0</td>\n",
       "      <td>0.555064</td>\n",
       "      <td>0.009263</td>\n",
       "    </tr>\n",
       "    <tr>\n",
       "      <th>4</th>\n",
       "      <td>-1.0</td>\n",
       "      <td>0.074687</td>\n",
       "      <td>0.282845</td>\n",
       "    </tr>\n",
       "  </tbody>\n",
       "</table>\n",
       "</div>"
      ],
      "text/plain": [
       "     y        x1        x2\n",
       "0 -1.0  0.595663  0.193072\n",
       "1 -1.0  0.436997  0.544807\n",
       "2  1.0  0.899945  0.845922\n",
       "3 -1.0  0.555064  0.009263\n",
       "4 -1.0  0.074687  0.282845"
      ]
     },
     "execution_count": 5,
     "metadata": {},
     "output_type": "execute_result"
    }
   ],
   "source": [
    "dfB = pd.read_csv('./data/data_b.txt', sep=\"\\s+\", header=None)\n",
    "dfB.columns = columns\n",
    "dfB.y.astype('category')\n",
    "dfB.head()"
   ]
  },
  {
   "cell_type": "code",
   "execution_count": 6,
   "metadata": {
    "colab": {
     "autoexec": {
      "startup": false,
      "wait_interval": 0
     },
     "base_uri": "https://localhost:8080/",
     "height": 297
    },
    "colab_type": "code",
    "executionInfo": {
     "elapsed": 544,
     "status": "ok",
     "timestamp": 1533802718094,
     "user": {
      "displayName": "",
      "photoUrl": "",
      "userId": ""
     },
     "user_tz": -120
    },
    "id": "H0ql8lLZw11l",
    "outputId": "900768f4-9be6-43a8-df79-fcba64b56de6"
   },
   "outputs": [
    {
     "data": {
      "text/html": [
       "<div>\n",
       "<style scoped>\n",
       "    .dataframe tbody tr th:only-of-type {\n",
       "        vertical-align: middle;\n",
       "    }\n",
       "\n",
       "    .dataframe tbody tr th {\n",
       "        vertical-align: top;\n",
       "    }\n",
       "\n",
       "    .dataframe thead th {\n",
       "        text-align: right;\n",
       "    }\n",
       "</style>\n",
       "<table border=\"1\" class=\"dataframe\">\n",
       "  <thead>\n",
       "    <tr style=\"text-align: right;\">\n",
       "      <th></th>\n",
       "      <th>y</th>\n",
       "      <th>x1</th>\n",
       "      <th>x2</th>\n",
       "    </tr>\n",
       "  </thead>\n",
       "  <tbody>\n",
       "    <tr>\n",
       "      <th>count</th>\n",
       "      <td>100.000000</td>\n",
       "      <td>100.000000</td>\n",
       "      <td>100.000000</td>\n",
       "    </tr>\n",
       "    <tr>\n",
       "      <th>mean</th>\n",
       "      <td>-0.080000</td>\n",
       "      <td>0.492262</td>\n",
       "      <td>0.529792</td>\n",
       "    </tr>\n",
       "    <tr>\n",
       "      <th>std</th>\n",
       "      <td>1.001817</td>\n",
       "      <td>0.293859</td>\n",
       "      <td>0.287287</td>\n",
       "    </tr>\n",
       "    <tr>\n",
       "      <th>min</th>\n",
       "      <td>-1.000000</td>\n",
       "      <td>0.004816</td>\n",
       "      <td>0.022107</td>\n",
       "    </tr>\n",
       "    <tr>\n",
       "      <th>25%</th>\n",
       "      <td>-1.000000</td>\n",
       "      <td>0.218549</td>\n",
       "      <td>0.303565</td>\n",
       "    </tr>\n",
       "    <tr>\n",
       "      <th>50%</th>\n",
       "      <td>-1.000000</td>\n",
       "      <td>0.487797</td>\n",
       "      <td>0.585369</td>\n",
       "    </tr>\n",
       "    <tr>\n",
       "      <th>75%</th>\n",
       "      <td>1.000000</td>\n",
       "      <td>0.754266</td>\n",
       "      <td>0.754063</td>\n",
       "    </tr>\n",
       "    <tr>\n",
       "      <th>max</th>\n",
       "      <td>1.000000</td>\n",
       "      <td>0.994422</td>\n",
       "      <td>0.984457</td>\n",
       "    </tr>\n",
       "  </tbody>\n",
       "</table>\n",
       "</div>"
      ],
      "text/plain": [
       "                y          x1          x2\n",
       "count  100.000000  100.000000  100.000000\n",
       "mean    -0.080000    0.492262    0.529792\n",
       "std      1.001817    0.293859    0.287287\n",
       "min     -1.000000    0.004816    0.022107\n",
       "25%     -1.000000    0.218549    0.303565\n",
       "50%     -1.000000    0.487797    0.585369\n",
       "75%      1.000000    0.754266    0.754063\n",
       "max      1.000000    0.994422    0.984457"
      ]
     },
     "execution_count": 6,
     "metadata": {},
     "output_type": "execute_result"
    }
   ],
   "source": [
    "dfA.describe()"
   ]
  },
  {
   "cell_type": "code",
   "execution_count": 7,
   "metadata": {
    "colab": {
     "autoexec": {
      "startup": false,
      "wait_interval": 0
     },
     "base_uri": "https://localhost:8080/",
     "height": 297
    },
    "colab_type": "code",
    "executionInfo": {
     "elapsed": 541,
     "status": "ok",
     "timestamp": 1533802719170,
     "user": {
      "displayName": "",
      "photoUrl": "",
      "userId": ""
     },
     "user_tz": -120
    },
    "id": "9D-6yJf-w2QL",
    "outputId": "310621fe-30d6-4247-cd9b-7ab4b28e3aef"
   },
   "outputs": [
    {
     "data": {
      "text/html": [
       "<div>\n",
       "<style scoped>\n",
       "    .dataframe tbody tr th:only-of-type {\n",
       "        vertical-align: middle;\n",
       "    }\n",
       "\n",
       "    .dataframe tbody tr th {\n",
       "        vertical-align: top;\n",
       "    }\n",
       "\n",
       "    .dataframe thead th {\n",
       "        text-align: right;\n",
       "    }\n",
       "</style>\n",
       "<table border=\"1\" class=\"dataframe\">\n",
       "  <thead>\n",
       "    <tr style=\"text-align: right;\">\n",
       "      <th></th>\n",
       "      <th>y</th>\n",
       "      <th>x1</th>\n",
       "      <th>x2</th>\n",
       "    </tr>\n",
       "  </thead>\n",
       "  <tbody>\n",
       "    <tr>\n",
       "      <th>count</th>\n",
       "      <td>100.0</td>\n",
       "      <td>100.000000</td>\n",
       "      <td>100.000000</td>\n",
       "    </tr>\n",
       "    <tr>\n",
       "      <th>mean</th>\n",
       "      <td>0.1</td>\n",
       "      <td>0.512781</td>\n",
       "      <td>0.502707</td>\n",
       "    </tr>\n",
       "    <tr>\n",
       "      <th>std</th>\n",
       "      <td>1.0</td>\n",
       "      <td>0.303099</td>\n",
       "      <td>0.288268</td>\n",
       "    </tr>\n",
       "    <tr>\n",
       "      <th>min</th>\n",
       "      <td>-1.0</td>\n",
       "      <td>0.013795</td>\n",
       "      <td>0.000298</td>\n",
       "    </tr>\n",
       "    <tr>\n",
       "      <th>25%</th>\n",
       "      <td>-1.0</td>\n",
       "      <td>0.256866</td>\n",
       "      <td>0.280513</td>\n",
       "    </tr>\n",
       "    <tr>\n",
       "      <th>50%</th>\n",
       "      <td>1.0</td>\n",
       "      <td>0.540715</td>\n",
       "      <td>0.502159</td>\n",
       "    </tr>\n",
       "    <tr>\n",
       "      <th>75%</th>\n",
       "      <td>1.0</td>\n",
       "      <td>0.800187</td>\n",
       "      <td>0.723326</td>\n",
       "    </tr>\n",
       "    <tr>\n",
       "      <th>max</th>\n",
       "      <td>1.0</td>\n",
       "      <td>0.994943</td>\n",
       "      <td>0.983413</td>\n",
       "    </tr>\n",
       "  </tbody>\n",
       "</table>\n",
       "</div>"
      ],
      "text/plain": [
       "           y          x1          x2\n",
       "count  100.0  100.000000  100.000000\n",
       "mean     0.1    0.512781    0.502707\n",
       "std      1.0    0.303099    0.288268\n",
       "min     -1.0    0.013795    0.000298\n",
       "25%     -1.0    0.256866    0.280513\n",
       "50%      1.0    0.540715    0.502159\n",
       "75%      1.0    0.800187    0.723326\n",
       "max      1.0    0.994943    0.983413"
      ]
     },
     "execution_count": 7,
     "metadata": {},
     "output_type": "execute_result"
    }
   ],
   "source": [
    "dfB.describe()"
   ]
  },
  {
   "cell_type": "code",
   "execution_count": 8,
   "metadata": {
    "colab": {
     "autoexec": {
      "startup": false,
      "wait_interval": 0
     },
     "base_uri": "https://localhost:8080/",
     "height": 365
    },
    "colab_type": "code",
    "executionInfo": {
     "elapsed": 963,
     "status": "ok",
     "timestamp": 1533802786333,
     "user": {
      "displayName": "",
      "photoUrl": "",
      "userId": ""
     },
     "user_tz": -120
    },
    "id": "RgraOJHZxDT-",
    "outputId": "860d0516-5bb5-496e-8d96-fce540aa874d"
   },
   "outputs": [
    {
     "data": {
      "image/png": "[encoded data removed]",
      "text/plain": [
       "<Figure size 420.975x360 with 1 Axes>"
      ]
     },
     "metadata": {},
     "output_type": "display_data"
    }
   ],
   "source": [
    "sns.lmplot(x=\"x1\", y=\"x2\", hue=\"y\", data=dfA, fit_reg=False);"
   ]
  },
  {
   "cell_type": "code",
   "execution_count": 9,
   "metadata": {
    "colab": {
     "autoexec": {
      "startup": false,
      "wait_interval": 0
     },
     "base_uri": "https://localhost:8080/",
     "height": 577
    },
    "colab_type": "code",
    "executionInfo": {
     "elapsed": 1683,
     "status": "ok",
     "timestamp": 1533802788747,
     "user": {
      "displayName": "",
      "photoUrl": "",
      "userId": ""
     },
     "user_tz": -120
    },
    "id": "G8_at_FcxIau",
    "outputId": "82d2cf80-5ec9-401d-a845-a1da893a3db1"
   },
   "outputs": [
    {
     "name": "stderr",
     "output_type": "stream",
     "text": [
      "/Users/Clement/Applications/miniconda3/envs/py27/lib/python2.7/site-packages/seaborn/axisgrid.py:2065: UserWarning: The `size` parameter has been renamed to `height`; pleaes update your code.\n",
      "  warnings.warn(msg, UserWarning)\n"
     ]
    },
    {
     "data": {
      "image/png": "[encoded data removed]",
      "text/plain": [
       "<Figure size 924.975x576 with 6 Axes>"
      ]
     },
     "metadata": {},
     "output_type": "display_data"
    }
   ],
   "source": [
    "sns.pairplot(dfA,vars=[\"x1\", \"x2\"], hue=\"y\", size=4, aspect=1.5, diag_kind=\"kde\");"
   ]
  },
  {
   "cell_type": "code",
   "execution_count": 10,
   "metadata": {
    "colab": {
     "autoexec": {
      "startup": false,
      "wait_interval": 0
     },
     "base_uri": "https://localhost:8080/",
     "height": 365
    },
    "colab_type": "code",
    "executionInfo": {
     "elapsed": 957,
     "status": "ok",
     "timestamp": 1533802790376,
     "user": {
      "displayName": "",
      "photoUrl": "",
      "userId": ""
     },
     "user_tz": -120
    },
    "id": "OI5QDDgDxL4v",
    "outputId": "d3493a8d-1665-427e-c281-edc5e1650872"
   },
   "outputs": [
    {
     "data": {
      "image/png": "[encoded data removed]",
      "text/plain": [
       "<Figure size 420.975x360 with 1 Axes>"
      ]
     },
     "metadata": {},
     "output_type": "display_data"
    }
   ],
   "source": [
    "sns.lmplot(x=\"x1\", y=\"x2\", hue=\"y\", data=dfB, fit_reg=False);"
   ]
  },
  {
   "cell_type": "code",
   "execution_count": 11,
   "metadata": {
    "colab": {
     "autoexec": {
      "startup": false,
      "wait_interval": 0
     },
     "base_uri": "https://localhost:8080/",
     "height": 577
    },
    "colab_type": "code",
    "executionInfo": {
     "elapsed": 1837,
     "status": "ok",
     "timestamp": 1533802792902,
     "user": {
      "displayName": "",
      "photoUrl": "",
      "userId": ""
     },
     "user_tz": -120
    },
    "id": "5gJKFY5YxMBW",
    "outputId": "3042cd07-b15d-4a7a-aa54-ac9fb3c7d606"
   },
   "outputs": [
    {
     "name": "stderr",
     "output_type": "stream",
     "text": [
      "/Users/Clement/Applications/miniconda3/envs/py27/lib/python2.7/site-packages/seaborn/axisgrid.py:2065: UserWarning: The `size` parameter has been renamed to `height`; pleaes update your code.\n",
      "  warnings.warn(msg, UserWarning)\n"
     ]
    },
    {
     "data": {
      "image/png": "[encoded data removed]",
      "text/plain": [
       "<Figure size 924.975x576 with 6 Axes>"
      ]
     },
     "metadata": {},
     "output_type": "display_data"
    }
   ],
   "source": [
    "sns.pairplot(dfB,vars=[\"x1\", \"x2\"], hue=\"y\", size=4, aspect=1.5, diag_kind=\"kde\");"
   ]
  },
  {
   "cell_type": "markdown",
   "metadata": {
    "colab_type": "text",
    "id": "16112m0AxflG"
   },
   "source": [
    "### Question 1.b)\n",
    "\n",
    "Let's rotate the datapoints by 45° and show a scatterplot, so we can see the boundaries more clearly:"
   ]
  },
  {
   "cell_type": "code",
   "execution_count": 12,
   "metadata": {
    "colab": {
     "autoexec": {
      "startup": false,
      "wait_interval": 0
     },
     "base_uri": "https://localhost:8080/",
     "height": 365
    },
    "colab_type": "code",
    "executionInfo": {
     "elapsed": 869,
     "status": "ok",
     "timestamp": 1533803757192,
     "user": {
      "displayName": "",
      "photoUrl": "",
      "userId": ""
     },
     "user_tz": -120
    },
    "id": "fUVpgpki0-_4",
    "outputId": "a4187029-0a15-4f5c-e472-493c52e4c923"
   },
   "outputs": [
    {
     "data": {
      "image/png": "[encoded data removed]",
      "text/plain": [
       "<Figure size 420.975x360 with 1 Axes>"
      ]
     },
     "metadata": {},
     "output_type": "display_data"
    }
   ],
   "source": [
    "dfC = dfB.copy()\n",
    "dfC['x12'] = dfC['x1']+dfC['x2']\n",
    "dfC['x21'] = -dfC['x1']+dfC['x2']\n",
    "sns.lmplot(x=\"x21\", y=\"x12\", hue=\"y\", data=dfC, fit_reg=False);"
   ]
  },
  {
   "cell_type": "markdown",
   "metadata": {
    "colab_type": "text",
    "id": "83GYGJq11Cz3"
   },
   "source": [
    "It seems that the data is perfectly linearly separable in the case of dataset B, however this is not the case for dataset A.\n",
    "\n",
    "Logistic regression attempts to maximize the log-likelihood:\n",
    "\n",
    "$$\n",
    "\\ell (\\theta) = \\sum_{i=1}^m y^i h_{\\theta}(x^i)+(1-y^i) (1-h_{\\theta}(x^i))\n",
    "$$\n",
    "\n",
    "Where $h_{\\theta}(x) = \\frac{1}{1+\\exp(-\\theta^T x)}$ is the sigmoid function.\n",
    "\n",
    "The problem is a scaling issue: Since the data is linearly separable, $||\\theta||$ can be made arbitrarily large and this will increase the log-likelihood indefinitely, as $\\forall i, h_{\\theta} (x^i) \\to 1 $ when $||\\theta|| \\to \\infty$. This happens so long as $\\theta$ describes a hyperplane that separates the data perfectly.\n",
    "\n",
    "Another way of saying this is that $\\nabla_{\\theta} = X^T (Y-h_{\\theta} (X))$ can be made arbitrarily close to $0$ by increasing $\\theta$, so long as $\\theta$ describes a hyperplane that separates the data perfectly.\n",
    "\n",
    "This does not happen when the data is not linearly separable: in this case, the log-likelihood would start decreasing due to the misclassified data points, i.e. $\\exists! \\theta$ such that $X^T (Y-h_{\\theta} (X)) = 0$"
   ]
  },
  {
   "cell_type": "markdown",
   "metadata": {
    "colab_type": "text",
    "id": "PsAod1hNACws"
   },
   "source": [
    "### Question 1.c)\n",
    "\n",
    "- **Using a different constant learning rate**\n",
    "\n",
    "This is a scaling issue, changing the learning rate would not solve the problem\n",
    "\n",
    "- **Decreasing the learning rate over time**\n",
    "\n",
    "Same as above: This is a scaling issue, changing the learning rate would not solve the problem\n",
    "\n",
    "- **Adding a regularization term $||\\theta||^2$ to the loss function**\n",
    "\n",
    "This would solve the problem, as we would be actively penalizing large values of $\\theta$ by including a term proportional to $||\\theta||^2$ in the objective function.\n",
    "\n",
    "- **Linear scaling of the input features**\n",
    "\n",
    "This would not solve the problem, as any linear transformation would still keep the data linearly separable\n",
    "\n",
    "- **Adding zero-mean Gaussian noise to the training data or labels**\n",
    "\n",
    "This could work, as the data could be made to be linearly inseparable with the addition of noise. However, this is not a very robust solution as convergence of the algorithm depends on the set of noise samples: there is no guarantee the algorithm would converge *in general* for all possible sets of noise samples.\n",
    "\n"
   ]
  },
  {
   "cell_type": "markdown",
   "metadata": {
    "colab_type": "text",
    "id": "FdjW-ik9CJD_"
   },
   "source": [
    "### Question 1.d)\n",
    "\n",
    "Support Vector Machines maximize the geometric margin. In the case of a linearly separable dataset, an SVM would maximize the distance between the separator and the closest data point, such that all data points are correctly classified. An SVM would therefore be immune to datasets such as B, as geometric margin is independant of $||\\theta||$."
   ]
  }
 ],
 "metadata": {
  "kernelspec": {
   "display_name": "Python 2",
   "language": "python",
   "name": "python2"
  },
  "language_info": {
   "codemirror_mode": {
    "name": "ipython",
    "version": 2
   },
   "file_extension": ".py",
   "mimetype": "text/x-python",
   "name": "python",
   "nbconvert_exporter": "python",
   "pygments_lexer": "ipython2",
   "version": "2.7.15"
  }
 },
 "nbformat": 4,
 "nbformat_minor": 2
}
