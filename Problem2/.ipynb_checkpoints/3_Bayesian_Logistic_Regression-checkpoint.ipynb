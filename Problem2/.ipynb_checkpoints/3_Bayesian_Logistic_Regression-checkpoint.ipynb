{
 "cells": [
  {
   "cell_type": "markdown",
   "metadata": {},
   "source": [
    "# CS229: Problem Set 2\n",
    "## Problem 3: Bayesian Logistic Regression and Weight Decay\n",
    "\n",
    "\n",
    "**C. Combier**\n",
    "\n",
    "This iPython Notebook provides solutions to Stanford's CS229 (Machine Learning, Fall 2017) graduate course problem set 3, taught by Andrew Ng.\n",
    "\n",
    "The problem set can be found here: [./ps2.pdf](ps2.pdf)\n",
    "\n",
    "I chose to write the solutions to the coding questions in Python, whereas the Stanford class is taught with Matlab/Octave.\n",
    "\n",
    "## Notation\n",
    "\n",
    "- $x^i$ is the $i^{th}$ feature vector\n",
    "- $y^i$ is the expected outcome for the $i^{th}$ training example\n",
    "- $m$ is the number of training examples\n",
    "- $n$ is the number of features"
   ]
  },
  {
   "cell_type": "markdown",
   "metadata": {
    "colab_type": "text",
    "id": "rsUtreJMonLw"
   },
   "source": [
    "### Question 3)\n",
    "\n",
    "Suppose that $|| \\theta_{MAP} ||^2 > || \\theta_{MLE} ||^2$.\n",
    "\n",
    "Then, given the prior that $\\theta$ is a gaussian random variable:\n",
    "\n",
    "$$\n",
    "\\begin{align*}\n",
    "p(\\theta_{MAP}) &< p(\\theta_{MLE}) \\\\\n",
    "p(\\theta_{MAP}) \\prod_{i=1}^m p(y^i |x^i; \\theta_{MAP}) &< p(\\theta_{MLE}) \\prod_{i=1}^m p(y^i |x^i; \\theta_{MAP}) \\\\\n",
    "&< p(\\theta_{MLE}) \\prod_{i=1}^m p(y^i |x^i; \\theta_{MLE})\n",
    "\\end{align*}\n",
    "$$\n",
    "This is true because by the definition of $\\theta_{MLE}$:\n",
    "$$\n",
    "\\forall \\theta, \\prod_{i=1}^m p(y^i |x^i; \\theta) < \\prod_{i=1}^m p(y^i |x^i; \\theta_{MLE})\n",
    "$$\n",
    "\n",
    "However, this statement contradicts the definition of $\\theta_{MAP}$. Therefore, our initial assumption is incorrect, which proves that:\n",
    "\n",
    "$$\n",
    "|| \\theta_{MAP} ||^2 \\leq || \\theta_{MLE} ||^2\n",
    "$$"
   ]
  }
 ],
 "metadata": {
  "kernelspec": {
   "display_name": "Python 2",
   "language": "python",
   "name": "python2"
  },
  "language_info": {
   "codemirror_mode": {
    "name": "ipython",
    "version": 2
   },
   "file_extension": ".py",
   "mimetype": "text/x-python",
   "name": "python",
   "nbconvert_exporter": "python",
   "pygments_lexer": "ipython2",
   "version": "2.7.15"
  }
 },
 "nbformat": 4,
 "nbformat_minor": 2
}
