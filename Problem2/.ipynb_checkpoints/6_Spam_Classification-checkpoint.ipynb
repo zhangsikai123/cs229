{
 "cells": [
  {
   "cell_type": "markdown",
   "metadata": {},
   "source": [
    "# CS229: Problem Set 2\n",
    "## Problem 6: Spam Classification\n",
    "\n",
    "\n",
    "**C. Combier**\n",
    "\n",
    "This iPython Notebook provides solutions to Stanford's CS229 (Machine Learning, Fall 2017) graduate course problem set 5, taught by Andrew Ng.\n",
    "\n",
    "The problem set can be found here: [./ps2.pdf](ps2.pdf)\n",
    "\n",
    "I chose to write the solutions to the coding questions in Python, whereas the Stanford class is taught with Matlab/Octave.\n",
    "\n",
    "## Notation\n",
    "\n",
    "- $x^i$ is the $i^{th}$ feature vector\n",
    "- $y^i$ is the expected outcome for the $i^{th}$ training example\n",
    "- $m$ is the number of training examples\n",
    "- $n$ is the number of features"
   ]
  },
  {
   "cell_type": "code",
   "execution_count": 1,
   "metadata": {},
   "outputs": [],
   "source": [
    "%matplotlib inline\n",
    "from __future__ import division\n",
    "import numpy as np\n",
    "import matplotlib.pyplot as plt\n",
    "import seaborn as sns\n",
    "import pandas as pd"
   ]
  },
  {
   "cell_type": "code",
   "execution_count": 2,
   "metadata": {},
   "outputs": [],
   "source": [
    "def readMatrix(file):\n",
    "    fd = open(file, 'r')\n",
    "    hdr = fd.readline()\n",
    "    rows, cols = [int(s) for s in fd.readline().strip().split()]\n",
    "    tokens = fd.readline().strip().split()\n",
    "    matrix = np.zeros((rows, cols))\n",
    "    Y = []\n",
    "    for i, line in enumerate(fd):\n",
    "        nums = [int(x) for x in line.strip().split()]\n",
    "        Y.append(nums[0])\n",
    "        kv = np.array(nums[1:])\n",
    "        k = np.cumsum(kv[:-1:2])\n",
    "        v = kv[1::2]\n",
    "        matrix[i, k] = v\n",
    "    return matrix, tokens, np.array(Y)\n",
    "\n",
    "\n",
    "\n",
    "def evaluate(output, label):\n",
    "    error = (output != label).sum() * 1. / len(output)\n",
    "    print 'Error: %1.4f' % error\n",
    "    return error\n",
    "\n",
    "def main():\n",
    "    trainMatrix, tokenlist, trainCategory = readMatrix('./data/MATRIX.TRAIN')\n",
    "    testMatrix, tokenlist, testCategory = readMatrix('./data/MATRIX.TEST')\n",
    "\n",
    "    state = nb_train(trainMatrix, trainCategory)\n",
    "    output = nb_test(testMatrix, state)\n",
    "\n",
    "    evaluate(output, testCategory)\n",
    "    return"
   ]
  },
  {
   "cell_type": "code",
   "execution_count": 3,
   "metadata": {},
   "outputs": [],
   "source": [
    "trainMatrix, tokenlist, trainCategory = readMatrix('./data/MATRIX.TRAIN')\n",
    "testMatrix, tokenlist, testCategory = readMatrix('./data/MATRIX.TEST')"
   ]
  },
  {
   "cell_type": "code",
   "execution_count": 4,
   "metadata": {},
   "outputs": [],
   "source": [
    "def nb_train(matrix, category):\n",
    "    state = {}\n",
    "    N = matrix.shape[1]\n",
    "    ###################\n",
    "    \n",
    "    spam = matrix[category == 1, :]\n",
    "    nospam = matrix[category == 0, :]\n",
    "\n",
    "    spam_lengths = spam.sum(axis = 1)\n",
    "    nospam_lengths = spam.sum(axis = 1)\n",
    "\n",
    "    state['phi_spam'] = (spam.sum(axis = 0) + 1) / (np.sum(spam_lengths) + N)\n",
    "    state['phi_nospam'] = (nospam.sum(axis = 0) + 1) / (np.sum(nospam_lengths) + N)\n",
    "    state['phi'] = spam.shape[0]/(spam.shape[0]+nospam.shape[0])\n",
    "    ###################\n",
    "    return state"
   ]
  },
  {
   "cell_type": "code",
   "execution_count": 5,
   "metadata": {},
   "outputs": [],
   "source": [
    "def nb_test(matrix, state):\n",
    "    output = np.zeros(matrix.shape[0])\n",
    "    ###################\n",
    "    log_phi_spam = np.sum( np.log(state['phi_spam'])*matrix, axis = 1)\n",
    "    log_phi_nospam = np.sum( np.log(state['phi_nospam'])*matrix, axis = 1)\n",
    "    phi = state['phi']\n",
    "    \n",
    "    ratio = np.exp(log_phi_nospam + np.log(1 - phi) - log_phi_spam - np.log(phi))\n",
    "    probs = 1 / (1 + ratio)\n",
    "    \n",
    "    output[probs > 0.5] = 1\n",
    "    \n",
    "    ###################\n",
    "    return output"
   ]
  },
  {
   "cell_type": "code",
   "execution_count": 6,
   "metadata": {},
   "outputs": [],
   "source": [
    "trainMatrix, tokenlist, trainCategory = readMatrix('./data/MATRIX.TRAIN')"
   ]
  },
  {
   "cell_type": "code",
   "execution_count": 7,
   "metadata": {},
   "outputs": [],
   "source": [
    "tokenlist = np.array(tokenlist)\n",
    "state = nb_train(trainMatrix, trainCategory)"
   ]
  },
  {
   "cell_type": "code",
   "execution_count": 8,
   "metadata": {},
   "outputs": [],
   "source": [
    "likely_spam_tokens = np.argsort(state['phi_spam']/state['phi_nospam'])[-5:]"
   ]
  },
  {
   "cell_type": "code",
   "execution_count": 9,
   "metadata": {},
   "outputs": [
    {
     "data": {
      "text/plain": [
       "array([1368,  393, 1356, 1209,  615])"
      ]
     },
     "execution_count": 9,
     "metadata": {},
     "output_type": "execute_result"
    }
   ],
   "source": [
    "likely_spam_tokens"
   ]
  },
  {
   "cell_type": "code",
   "execution_count": 10,
   "metadata": {},
   "outputs": [
    {
     "data": {
      "text/plain": [
       "array(['valet', 'ebai', 'unsubscrib', 'spam', 'httpaddr'], dtype='|S16')"
      ]
     },
     "execution_count": 10,
     "metadata": {},
     "output_type": "execute_result"
    }
   ],
   "source": [
    "tokenlist[likely_spam_tokens]"
   ]
  },
  {
   "cell_type": "code",
   "execution_count": 11,
   "metadata": {},
   "outputs": [],
   "source": [
    "train_sizes = np.array([50, 100, 200, 400, 800, 1400])"
   ]
  },
  {
   "cell_type": "code",
   "execution_count": 12,
   "metadata": {},
   "outputs": [
    {
     "name": "stdout",
     "output_type": "stream",
     "text": [
      "Error: 0.4238\n",
      "Error: 0.3275\n",
      "Error: 0.1963\n",
      "Error: 0.0788\n",
      "Error: 0.0537\n",
      "Error: 0.0488\n"
     ]
    }
   ],
   "source": [
    "errors = np.ones(train_sizes.shape)\n",
    "for i,train_size in enumerate(train_sizes):\n",
    "    trainMatrix, tokenlist, trainCategory = readMatrix('./data/MATRIX.TRAIN.'+str(train_size))\n",
    "    state = nb_train(trainMatrix, trainCategory)\n",
    "    output = nb_test(testMatrix, state)\n",
    "    errors[i] = evaluate(output, testCategory)"
   ]
  },
  {
   "cell_type": "code",
   "execution_count": 13,
   "metadata": {},
   "outputs": [
    {
     "data": {
      "image/png": "[encoded data removed]",
      "text/plain": [
       "<Figure size 432x288 with 1 Axes>"
      ]
     },
     "metadata": {},
     "output_type": "display_data"
    }
   ],
   "source": [
    "plt.plot(train_sizes,errors*100);\n",
    "plt.xlabel('Training Size');\n",
    "plt.ylabel('Test Error (%)');"
   ]
  },
  {
   "cell_type": "code",
   "execution_count": 14,
   "metadata": {},
   "outputs": [],
   "source": [
    "import svm"
   ]
  },
  {
   "cell_type": "code",
   "execution_count": 15,
   "metadata": {},
   "outputs": [
    {
     "name": "stdout",
     "output_type": "stream",
     "text": [
      "Error: 0.0163\n",
      "Error: 0.0200\n",
      "Error: 0.0037\n",
      "Error: 0.0025\n",
      "Error: 0.0000\n",
      "Error: 0.0000\n"
     ]
    }
   ],
   "source": [
    "errors_svm = np.ones(train_sizes.shape)\n",
    "testMatrix, tokenlist, testCategory = svm.svm_readMatrix('./data/MATRIX.TEST')\n",
    "for i,train_size in enumerate(train_sizes):\n",
    "    trainMatrix, tokenlist, trainCategory = svm.svm_readMatrix('./data/MATRIX.TRAIN.'+str(train_size))\n",
    "    state = svm.svm_train(trainMatrix, trainCategory)\n",
    "    output = svm.svm_test(testMatrix, state)\n",
    "    errors_svm[i] = svm.svm_evaluate(output, testCategory)"
   ]
  },
  {
   "cell_type": "code",
   "execution_count": 16,
   "metadata": {},
   "outputs": [
    {
     "data": {
      "image/png": "[encoded data removed]",
      "text/plain": [
       "<Figure size 432x288 with 1 Axes>"
      ]
     },
     "metadata": {},
     "output_type": "display_data"
    }
   ],
   "source": [
    "plt.plot(train_sizes,errors*100, label=\"Naive Bayes\")\n",
    "plt.plot(train_sizes,errors_svm*100, label=\"SVM\")\n",
    "plt.xlabel('Training Size');\n",
    "plt.ylabel('Test Error (%)');\n",
    "plt.legend(loc='upper right');"
   ]
  }
 ],
 "metadata": {
  "kernelspec": {
   "display_name": "Python 2",
   "language": "python",
   "name": "python2"
  },
  "language_info": {
   "codemirror_mode": {
    "name": "ipython",
    "version": 2
   },
   "file_extension": ".py",
   "mimetype": "text/x-python",
   "name": "python",
   "nbconvert_exporter": "python",
   "pygments_lexer": "ipython2",
   "version": "2.7.15"
  }
 },
 "nbformat": 4,
 "nbformat_minor": 2
}
