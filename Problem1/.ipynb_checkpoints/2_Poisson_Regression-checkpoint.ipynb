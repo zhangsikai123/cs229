{
 "cells": [
  {
   "cell_type": "markdown",
   "metadata": {},
   "source": [
    "# CS229: Problem Set 1\n",
    "## Problem 2: Poisson Regression and the Exponential Family\n",
    "\n",
    "\n",
    "**C. Combier**\n",
    "\n",
    "This iPython Notebook provides solutions to Stanford's CS229 (Machine Learning, Fall 2017) graduate course problem set 1, taught by Andrew Ng.\n",
    "\n",
    "The problem set can be found here: [./ps1.pdf](ps1.pdf)\n",
    "\n",
    "I chose to write the solutions to the coding questions in Python, whereas the Stanford class is taught with Matlab/Octave.\n",
    "\n",
    "## Notation\n",
    "\n",
    "- $x^i$ is the $i^{th}$ feature vector\n",
    "- $y^i$ is the expected outcome for the $i^{th}$ training example\n",
    "- $m$ is the number of training examples\n",
    "- $n$ is the number of features"
   ]
  },
  {
   "cell_type": "markdown",
   "metadata": {},
   "source": [
    "### Question 2.a)\n",
    "The exponential family is a class of distributions with the following form:\n",
    "\n",
    "$$\n",
    "p(y;\\eta) = b(y)\\exp{(\\eta^T T(y) - a(\\eta))}\n",
    "$$\n",
    "\n",
    "By identifying the parameters of the Poisson distribution:\n",
    "\n",
    "$$\n",
    "p(y;\\lambda) = \\frac{e^{-\\lambda}\\lambda^y}{y!}\n",
    "$$\n",
    "\n",
    "- $b(y) = \\frac{1}{y!}$\n",
    "- $T(y) = y$\n",
    "- $\\eta = \\log \\lambda$\n",
    "- $a(\\eta) = e^{\\eta}$"
   ]
  },
  {
   "cell_type": "markdown",
   "metadata": {},
   "source": [
    "### Question 2.b)\n",
    "\n",
    "The canonical response function for the Poisson distribution is given by:\n",
    "\n",
    "$$\n",
    "g(\\eta) = E(y;\\eta) = \\lambda = e^{\\eta}\n",
    "$$"
   ]
  },
  {
   "cell_type": "markdown",
   "metadata": {},
   "source": [
    "### Question 2.c)\n",
    "\n",
    "The log-likelihood of a training example $(x^i, y^i)$ is given by $\\log p(y^i|x^i;\\theta)$.\n",
    "\n",
    "To derive the stochastic gradient descent update rule, we start by computing the partial derivative of the log-likelihood with respect to parameter $\\theta_j$, with $\\eta = \\theta^T x^i$:\n",
    "\n",
    "$$\n",
    "\\begin{align*}\n",
    "\\frac{\\partial}{\\partial \\theta_j} \\log p(y^i|x^i;\\theta) &= \\frac{\\partial}{\\partial \\theta_j} ((\\theta^T x^i)^T y^i - e^{\\theta^T x^i}) \\\\\n",
    "&= (y^i-e^{\\theta^T x^i})x_j^i\n",
    "\\end{align*}\n",
    "$$\n",
    "\n",
    "The yields the update rule for stochastic gradient descent with learning rate $\\alpha$:\n",
    "\n",
    "$$\n",
    "\\theta_j := \\theta_j + \\alpha.(y^i-e^{\\theta^T x^i})x_j^i\n",
    "$$"
   ]
  }
 ],
 "metadata": {
  "kernelspec": {
   "display_name": "Python 2",
   "language": "python",
   "name": "python2"
  },
  "language_info": {
   "codemirror_mode": {
    "name": "ipython",
    "version": 2
   },
   "file_extension": ".py",
   "mimetype": "text/x-python",
   "name": "python",
   "nbconvert_exporter": "python",
   "pygments_lexer": "ipython2",
   "version": "2.7.15"
  }
 },
 "nbformat": 4,
 "nbformat_minor": 2
}
